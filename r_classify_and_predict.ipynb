{
 "cells": [
  {
   "cell_type": "markdown",
   "metadata": {},
   "source": [
    "## Прогноз гео(не)зависимости рубрик для данных 2GIS"
   ]
  },
  {
   "cell_type": "code",
   "execution_count": 1,
   "metadata": {},
   "outputs": [],
   "source": [
    "data<-read.csv(\"Data_Projects.csv\", sep=\";\", dec=\",\")"
   ]
  },
  {
   "cell_type": "markdown",
   "metadata": {},
   "source": [
    "- AddressCount – количество кликов в адреса и/или входы.\n",
    "- CallsCount – количество звонков в организации.\n",
    "- ClicksCount – количество кликов в организации.\n",
    "- FirmsCount – количество организаций в той или иной сфере.\n",
    "- GeoPart – доля трафика с карты.\n",
    "- MobilePart – доля трафика с мобильных продуктов.\n",
    "- UsersCount – количество уникальных пользователей, которые совершали какие–то действия в данной сфере – открывали карточки организаций, тыкали во вход/адрес звонок и т.д.\n",
    "- Distance – Медианная дистанция от пользователя до организации при совершении клика.\n",
    "- IsGeo – признак геозависимой сферы (1 – геозависимая сфера; 0 – геонезависимая сфера (по экспертной разметке)."
   ]
  },
  {
   "cell_type": "markdown",
   "metadata": {},
   "source": [
    "#### Подготовим данные"
   ]
  },
  {
   "cell_type": "code",
   "execution_count": 2,
   "metadata": {},
   "outputs": [
    {
     "name": "stdout",
     "output_type": "stream",
     "text": [
      "'data.frame':\t79 obs. of  9 variables:\n",
      " $ AddressCount: int  156 17 78 14 111 53 18 9 56 371 ...\n",
      " $ CallsCount  : int  20 37 56 70 90 96 137 150 153 176 ...\n",
      " $ ClicksCount : int  1903 258 1956 378 4089 1669 373 563 1366 5913 ...\n",
      " $ FirmsCount  : int  176 20 185 19 90 162 26 15 56 31 ...\n",
      " $ GeoPart     : num  0.416 0.212 0.349 0.319 0.556 ...\n",
      " $ MobilePart  : num  0.536 0.431 0.477 0.464 0.491 ...\n",
      " $ UsersCount  : int  1125 157 1195 206 2934 991 180 265 613 3981 ...\n",
      " $ Distance    : num  750 2289 1423 3397 1577 ...\n",
      " $ IsGeo       : int  1 0 1 0 1 0 0 0 0 0 ...\n"
     ]
    }
   ],
   "source": [
    "str(data)"
   ]
  },
  {
   "cell_type": "code",
   "execution_count": 3,
   "metadata": {},
   "outputs": [
    {
     "data": {
      "image/png": "[encoded data removed]",
      "text/plain": [
       "Plot with title \"\""
      ]
     },
     "metadata": {},
     "output_type": "display_data"
    }
   ],
   "source": [
    "par(mfcol=c(2,4), mar=c(4,4,2,2))\n",
    "hist(data$AddressCount, breaks=\"FD\", main=\"\")\n",
    "hist(data$CallsCount, breaks=\"FD\", main=\"\")\n",
    "hist(data$ClicksCount, breaks=\"FD\", main=\"\")\n",
    "hist(data$FirmsCount, breaks=\"FD\", main=\"\")\n",
    "hist(data$GeoPart, breaks=\"FD\", main=\"\")\n",
    "hist(data$MobilePart, breaks=\"FD\", main=\"\")\n",
    "hist(data$UsersCount, breaks=\"FD\", main=\"\")\n",
    "hist(data$Distance, breaks=\"FD\", main=\"\")"
   ]
  },
  {
   "cell_type": "markdown",
   "metadata": {},
   "source": [
    "Можно невооруженным глазом подметить, что AddressCount, CallsCount, ClicksCount, FirmsCount, UsersCount близки к логнормальному распределению. Тогда как GeoPart, MobilePart, Distance имеют куполообразное распределение с некоторой асимметрией и признаками смеси в данных. Distance явно асимметричен для нормального. Все признаки (за исключением IsGeo) представлены в метрических шкалах, поэтому они все пригодны для дальнейшего анализа стандартными методами. Однако логнормально-распределенные признаки следует приблизить к нормальности, чтобы избежать смещенных оценок. Для этого прологарифмируем AddressCount, CallsCount, ClicksCount, FirmsCount, UsersCount."
   ]
  },
  {
   "cell_type": "code",
   "execution_count": 4,
   "metadata": {},
   "outputs": [],
   "source": [
    "data$AddressCount<-log10(data$AddressCount)\n",
    "data$CallsCount<-log10(data$CallsCount)\n",
    "data$ClicksCount<-log10(data$ClicksCount)\n",
    "data$FirmsCount<-log10(data$FirmsCount)\n",
    "data$UsersCount<-log10(data$UsersCount)\n",
    "data$Distance<-log10(data$Distance)"
   ]
  },
  {
   "cell_type": "markdown",
   "metadata": {},
   "source": [
    "Разобъем данные на тестовую и обучающую выборку в соотношении 20/80 в целях контроля качества моделей."
   ]
  },
  {
   "cell_type": "code",
   "execution_count": 5,
   "metadata": {},
   "outputs": [],
   "source": [
    "set.seed(101)\n",
    "sample <- sample.int(n = nrow(data), size = floor(.80*nrow(data)), replace = F)\n",
    "train <- data[sample, ]\n",
    "test  <- data[-sample, ]"
   ]
  },
  {
   "cell_type": "markdown",
   "metadata": {},
   "source": [
    "#### 1. Оцените, какие признаки вносят значимый вклад в разделение рубрик на геозависимые и геонезависимые, и оставьте для включения в модель только те, которые значимо дифференцируют рубрики."
   ]
  },
  {
   "cell_type": "markdown",
   "metadata": {},
   "source": [
    "Отбор значимых для классификации признаков проведем с помощью алгоритма Boruta. Данный алгоритм оценивает важность предикторов при помощи случайных перестановок их значений и по умолчанию использует метод случайного леса (random forest). "
   ]
  },
  {
   "cell_type": "code",
   "execution_count": 7,
   "metadata": {},
   "outputs": [],
   "source": [
    "library(\"Boruta\")"
   ]
  },
  {
   "cell_type": "code",
   "execution_count": 8,
   "metadata": {},
   "outputs": [
    {
     "data": {
      "text/plain": [
       "Boruta performed 99 iterations in 4.904129 secs.\n",
       " 5 attributes confirmed important: AddressCount, Distance, GeoPart,\n",
       "MobilePart, UsersCount;\n",
       " 1 attributes confirmed unimportant: CallsCount;\n",
       " 2 tentative attributes left: ClicksCount, FirmsCount;"
      ]
     },
     "metadata": {},
     "output_type": "display_data"
    }
   ],
   "source": [
    "set.seed(101)\n",
    "br <- Boruta(IsGeo~.,data=train)\n",
    "br"
   ]
  },
  {
   "cell_type": "markdown",
   "metadata": {},
   "source": [
    "Итак Boruta предлагает нам исключить CallsCount, а также сомневается в ClicksCount и FirmsCount. Исключим только CallsCount."
   ]
  },
  {
   "cell_type": "code",
   "execution_count": 9,
   "metadata": {},
   "outputs": [],
   "source": [
    "train <- train[,-2]"
   ]
  },
  {
   "cell_type": "markdown",
   "metadata": {},
   "source": [
    "#### 2. Выберите две модели наиболее, на Ваш взгляд, подходящие для решения задачи классификации рубрик. Кратко (1-2 абзаца) обоснуйте свой выбор."
   ]
  },
  {
   "cell_type": "markdown",
   "metadata": {},
   "source": [
    "В качестве классификатора для бинарной зависимой переменной в практике достаточно распространены следующие методы:\n",
    "- множественная логистическая регрессия\n",
    "- дерево решений\n",
    "\n",
    "\n",
    "На сегодняний день они являются достаточно простыми в реализации, но при этом дают лучшие результаты, чем наивный бейесовский классификатор."
   ]
  },
  {
   "cell_type": "markdown",
   "metadata": {},
   "source": [
    "#### 3. Постройте первую из двух выбранных моделей, кратко охарактеризуйте вклад отдельных признаков в \"судьбу\" рубрики: что \"способствует\" геозависимости, а что, напротив, освобождает рубрику от территориальной привязки?"
   ]
  },
  {
   "cell_type": "markdown",
   "metadata": {},
   "source": [
    "Построим логистическую регрессиию, а также применим алгоритм пошагового исключения незначимых признаков step."
   ]
  },
  {
   "cell_type": "code",
   "execution_count": 10,
   "metadata": {},
   "outputs": [
    {
     "data": {
      "text/plain": [
       "\n",
       "Call:\n",
       "glm(formula = IsGeo ~ ClicksCount + MobilePart + UsersCount + \n",
       "    Distance, family = binomial(link = \"logit\"), data = train)\n",
       "\n",
       "Deviance Residuals: \n",
       "    Min       1Q   Median       3Q      Max  \n",
       "-2.2597  -0.4250  -0.1232   0.3882   2.2200  \n",
       "\n",
       "Coefficients:\n",
       "            Estimate Std. Error z value Pr(>|z|)   \n",
       "(Intercept)   14.378      7.440   1.933  0.05329 . \n",
       "ClicksCount  -10.712      5.176  -2.070  0.03848 * \n",
       "MobilePart     9.884      4.433   2.230  0.02578 * \n",
       "UsersCount    11.512      5.533   2.081  0.03745 * \n",
       "Distance      -5.854      2.000  -2.927  0.00342 **\n",
       "---\n",
       "Signif. codes:  0 '***' 0.001 '**' 0.01 '*' 0.05 '.' 0.1 ' ' 1\n",
       "\n",
       "(Dispersion parameter for binomial family taken to be 1)\n",
       "\n",
       "    Null deviance: 81.516  on 62  degrees of freedom\n",
       "Residual deviance: 40.980  on 58  degrees of freedom\n",
       "AIC: 50.98\n",
       "\n",
       "Number of Fisher Scoring iterations: 6\n"
      ]
     },
     "metadata": {},
     "output_type": "display_data"
    }
   ],
   "source": [
    "logit <- glm(IsGeo ~ ., data = train, family = binomial(link = 'logit'))\n",
    "logit.step <- step(logit, trace = 0)\n",
    "summary(logit.step)"
   ]
  },
  {
   "cell_type": "markdown",
   "metadata": {},
   "source": [
    "Алгоритм step сошёлся на 6 шагах и сформировал модель, включающую 4 признака, значимых на уровне 95%. Логистическая регрессия не очень удачный выбор с точки зрения интерпретации влияния признаков, однако анализируя коэффициенты в модели можно сказать, что признаки MobilePart и UsersCount \"способствуют\" геозависимости, а ClicksCount и Distance - \"освобождают\" от территориальной привязки."
   ]
  },
  {
   "cell_type": "markdown",
   "metadata": {},
   "source": [
    "#### 4. Постройте вторую модель, сравните результат, полученный на разных моделях."
   ]
  },
  {
   "cell_type": "markdown",
   "metadata": {},
   "source": [
    "Построим классификатор на основе дерева решений."
   ]
  },
  {
   "cell_type": "code",
   "execution_count": 23,
   "metadata": {},
   "outputs": [],
   "source": [
    "library(rpart)\n",
    "tree <- rpart(IsGeo ~ ., data = train, method = \"class\")"
   ]
  },
  {
   "cell_type": "code",
   "execution_count": 20,
   "metadata": {},
   "outputs": [
    {
     "name": "stdout",
     "output_type": "stream",
     "text": [
      "Call:\n",
      "rpart(formula = IsGeo ~ ., data = train, method = \"class\")\n",
      "  n= 63 \n",
      "\n",
      "          CP nsplit rel error    xerror      xstd\n",
      "1 0.45454545      0 1.0000000 1.0000000 0.1719928\n",
      "2 0.04545455      1 0.5454545 0.7272727 0.1570421\n",
      "3 0.01000000      2 0.5000000 0.8636364 0.1655809\n",
      "\n",
      "Variable importance\n",
      "    Distance   MobilePart   FirmsCount      GeoPart AddressCount  ClicksCount \n",
      "          31           16           15           15           11           11 \n",
      "  UsersCount \n",
      "           2 \n",
      "\n",
      "Node number 1: 63 observations,    complexity param=0.4545455\n",
      "  predicted class=0  expected loss=0.3492063  P(node) =1\n",
      "    class counts:    41    22\n",
      "   probabilities: 0.651 0.349 \n",
      "  left son=2 (37 obs) right son=3 (26 obs)\n",
      "  Primary splits:\n",
      "      Distance     < 3.357408  to the right, improve=10.422860, (0 missing)\n",
      "      MobilePart   < 0.471539  to the left,  improve= 9.247042, (0 missing)\n",
      "      AddressCount < 2.695512  to the left,  improve= 6.706349, (0 missing)\n",
      "      UsersCount   < 3.581387  to the left,  improve= 6.036543, (0 missing)\n",
      "      GeoPart      < 0.4302436 to the left,  improve= 5.862193, (0 missing)\n",
      "  Surrogate splits:\n",
      "      FirmsCount   < 2.331001  to the left,  agree=0.794, adj=0.500, (0 split)\n",
      "      GeoPart      < 0.3486064 to the left,  agree=0.778, adj=0.462, (0 split)\n",
      "      MobilePart   < 0.5024762 to the left,  agree=0.730, adj=0.346, (0 split)\n",
      "      AddressCount < 2.695512  to the left,  agree=0.714, adj=0.308, (0 split)\n",
      "      ClicksCount  < 3.802605  to the left,  agree=0.714, adj=0.308, (0 split)\n",
      "\n",
      "Node number 2: 37 observations\n",
      "  predicted class=0  expected loss=0.1081081  P(node) =0.5873016\n",
      "    class counts:    33     4\n",
      "   probabilities: 0.892 0.108 \n",
      "\n",
      "Node number 3: 26 observations,    complexity param=0.04545455\n",
      "  predicted class=1  expected loss=0.3076923  P(node) =0.4126984\n",
      "    class counts:     8    18\n",
      "   probabilities: 0.308 0.692 \n",
      "  left son=6 (9 obs) right son=7 (17 obs)\n",
      "  Primary splits:\n",
      "      MobilePart   < 0.4764406 to the left,  improve=1.6913020, (0 missing)\n",
      "      FirmsCount   < 2.454243  to the right, improve=1.4019230, (0 missing)\n",
      "      AddressCount < 2.661428  to the left,  improve=0.8547009, (0 missing)\n",
      "      UsersCount   < 3.562736  to the left,  improve=0.8547009, (0 missing)\n",
      "      Distance     < 2.98701   to the right, improve=0.7713675, (0 missing)\n",
      "  Surrogate splits:\n",
      "      UsersCount   < 3.692008  to the left,  agree=0.769, adj=0.333, (0 split)\n",
      "      AddressCount < 2.556463  to the left,  agree=0.731, adj=0.222, (0 split)\n",
      "      ClicksCount  < 3.971818  to the left,  agree=0.731, adj=0.222, (0 split)\n",
      "      GeoPart      < 0.3170733 to the left,  agree=0.692, adj=0.111, (0 split)\n",
      "\n",
      "Node number 6: 9 observations\n",
      "  predicted class=0  expected loss=0.4444444  P(node) =0.1428571\n",
      "    class counts:     5     4\n",
      "   probabilities: 0.556 0.444 \n",
      "\n",
      "Node number 7: 17 observations\n",
      "  predicted class=1  expected loss=0.1764706  P(node) =0.2698413\n",
      "    class counts:     3    14\n",
      "   probabilities: 0.176 0.824 \n",
      "\n"
     ]
    }
   ],
   "source": [
    "summary(tree)"
   ]
  },
  {
   "cell_type": "code",
   "execution_count": 13,
   "metadata": {},
   "outputs": [
    {
     "data": {
      "text/html": [
       "<dl class=dl-horizontal>\n",
       "\t<dt>Distance</dt>\n",
       "\t\t<dd>30.9637395161714</dd>\n",
       "\t<dt>MobilePart</dt>\n",
       "\t\t<dd>15.742656825595</dd>\n",
       "\t<dt>FirmsCount</dt>\n",
       "\t\t<dd>15.4818697580857</dd>\n",
       "\t<dt>GeoPart</dt>\n",
       "\t\t<dd>14.8492277331899</dd>\n",
       "\t<dt>AddressCount</dt>\n",
       "\t\t<dd>10.6438465333513</dd>\n",
       "\t<dt>ClicksCount</dt>\n",
       "\t\t<dd>10.6438465333513</dd>\n",
       "\t<dt>UsersCount</dt>\n",
       "\t\t<dd>1.67481310025548</dd>\n",
       "</dl>\n"
      ],
      "text/latex": [
       "\\begin{description*}\n",
       "\\item[Distance] 30.9637395161714\n",
       "\\item[MobilePart] 15.742656825595\n",
       "\\item[FirmsCount] 15.4818697580857\n",
       "\\item[GeoPart] 14.8492277331899\n",
       "\\item[AddressCount] 10.6438465333513\n",
       "\\item[ClicksCount] 10.6438465333513\n",
       "\\item[UsersCount] 1.67481310025548\n",
       "\\end{description*}\n"
      ],
      "text/markdown": [
       "Distance\n",
       ":   30.9637395161714MobilePart\n",
       ":   15.742656825595FirmsCount\n",
       ":   15.4818697580857GeoPart\n",
       ":   14.8492277331899AddressCount\n",
       ":   10.6438465333513ClicksCount\n",
       ":   10.6438465333513UsersCount\n",
       ":   1.67481310025548\n",
       "\n"
      ],
      "text/plain": [
       "    Distance   MobilePart   FirmsCount      GeoPart AddressCount  ClicksCount \n",
       "   30.963740    15.742657    15.481870    14.849228    10.643847    10.643847 \n",
       "  UsersCount \n",
       "    1.674813 "
      ]
     },
     "metadata": {},
     "output_type": "display_data"
    }
   ],
   "source": [
    "tree$variable.importance/sum(tree$variable.importance)*100"
   ]
  },
  {
   "cell_type": "markdown",
   "metadata": {},
   "source": [
    "Если мы обратим внимание на параметр Variable importance, который показывает относительную значимость каждого признака в разбиении, то можно сказать, что признак UsersCount следовало бы исключить. Тогда как Distance, MobilePart и FirmsCount играют важную роль в построении дерева.\n"
   ]
  },
  {
   "cell_type": "markdown",
   "metadata": {},
   "source": [
    "#### 5. Коротко (на 1-2 абзаца) объясните различия в результате, если таковые будут выявлены."
   ]
  },
  {
   "cell_type": "markdown",
   "metadata": {},
   "source": [
    "Оценим качество классификаторов на основе ROC-кривых."
   ]
  },
  {
   "cell_type": "code",
   "execution_count": 15,
   "metadata": {},
   "outputs": [],
   "source": [
    "library(ROCR)"
   ]
  },
  {
   "cell_type": "code",
   "execution_count": 16,
   "metadata": {},
   "outputs": [
    {
     "data": {
      "image/png": "[encoded data removed]",
      "text/plain": [
       "Plot with title \"ROC Logit, AUC: 0.927937915742794\""
      ]
     },
     "metadata": {},
     "output_type": "display_data"
    }
   ],
   "source": [
    "par(mfrow=c(2,2))\n",
    "\n",
    "tree_pred <- predict(tree, type = \"prob\")[,2]\n",
    "pred <- prediction(tree_pred, train$IsGeo) \n",
    "perf <- performance(pred, measure = \"tpr\", x.measure = \"fpr\")     \n",
    "plot(perf, col=rainbow(7), main=paste(\"ROC Tree, AUC:\",performance(pred, measure = \"auc\")@y.values),\n",
    "     xlab=\"Specificity\", ylab=\"Sensitivity\")    \n",
    "abline(0, 1) #add a 45 degree line\n",
    "\n",
    "logit.step_pred <- predict(logit.step, type = \"response\")\n",
    "pred <- prediction(logit.step_pred, train$IsGeo) \n",
    "perf <- performance(pred, measure = \"tpr\", x.measure = \"fpr\")     \n",
    "plot(perf, col=rainbow(7), main=paste(\"ROC Logit, AUC:\", performance(pred, measure = \"auc\")@y.values),\n",
    "     xlab=\"Specificity\", ylab=\"Sensitivity\")    \n",
    "abline(0, 1) #add a 45 degree line"
   ]
  },
  {
   "cell_type": "markdown",
   "metadata": {},
   "source": [
    "Чем ближе ROC кривая к верхнему левому углу и больше площадь под ней (AUC), тем лучше качество модели. В нашем случае Logit показывает лучшие результаты."
   ]
  },
  {
   "cell_type": "markdown",
   "metadata": {},
   "source": [
    "#### 6. Постройте прогноз для нескольких (2-3) рубрик: в какой класс они попадут и с какой вероятностью?"
   ]
  },
  {
   "cell_type": "markdown",
   "metadata": {},
   "source": [
    "Выполним прогноз для нашей тестовой выборки с помощью построенных моделей и оценим качество классификации."
   ]
  },
  {
   "cell_type": "code",
   "execution_count": 17,
   "metadata": {},
   "outputs": [],
   "source": [
    "tree_pred <- predict(tree, newdata = test, type = \"class\")\n",
    "tree_p <- predict(tree, newdata = test, type = \"prob\")\n",
    "logit.step_pred <- predict(logit.step, newdata = test, type = \"response\")"
   ]
  },
  {
   "cell_type": "code",
   "execution_count": 18,
   "metadata": {},
   "outputs": [
    {
     "data": {
      "text/html": [
       "<table>\n",
       "<thead><tr><th></th><th scope=col>IsGeo</th><th scope=col>Tree</th><th scope=col>Logit</th><th scope=col>TreeP</th><th scope=col>LogitP</th></tr></thead>\n",
       "<tbody>\n",
       "\t<tr><th scope=row>4</th><td>0   </td><td>0   </td><td>0   </td><td>0.11</td><td>0.06</td></tr>\n",
       "\t<tr><th scope=row>5</th><td>1   </td><td>1   </td><td>1   </td><td>0.82</td><td>0.85</td></tr>\n",
       "\t<tr><th scope=row>7</th><td>0   </td><td>0   </td><td>0   </td><td>0.11</td><td>0.03</td></tr>\n",
       "\t<tr><th scope=row>11</th><td>1   </td><td>1   </td><td>1   </td><td>0.82</td><td>0.99</td></tr>\n",
       "\t<tr><th scope=row>19</th><td>0   </td><td>0   </td><td>0   </td><td>0.44</td><td>0.16</td></tr>\n",
       "\t<tr><th scope=row>23</th><td>0   </td><td>0   </td><td>0   </td><td>0.11</td><td>0.00</td></tr>\n",
       "\t<tr><th scope=row>27</th><td>0   </td><td>0   </td><td>0   </td><td>0.11</td><td>0.01</td></tr>\n",
       "\t<tr><th scope=row>28</th><td>0   </td><td>0   </td><td>0   </td><td>0.11</td><td>0.00</td></tr>\n",
       "\t<tr><th scope=row>30</th><td>0   </td><td>0   </td><td>0   </td><td>0.11</td><td>0.33</td></tr>\n",
       "\t<tr><th scope=row>34</th><td>0   </td><td>0   </td><td>0   </td><td>0.11</td><td>0.03</td></tr>\n",
       "\t<tr><th scope=row>35</th><td>1   </td><td>1   </td><td>1   </td><td>0.82</td><td>0.75</td></tr>\n",
       "\t<tr><th scope=row>37</th><td>1   </td><td>0   </td><td>0   </td><td>0.44</td><td>0.36</td></tr>\n",
       "\t<tr><th scope=row>44</th><td>1   </td><td>1   </td><td>1   </td><td>0.82</td><td>0.96</td></tr>\n",
       "\t<tr><th scope=row>47</th><td>0   </td><td>0   </td><td>0   </td><td>0.44</td><td>0.10</td></tr>\n",
       "\t<tr><th scope=row>62</th><td>1   </td><td>1   </td><td>1   </td><td>0.82</td><td>0.98</td></tr>\n",
       "\t<tr><th scope=row>75</th><td>0   </td><td>0   </td><td>0   </td><td>0.44</td><td>0.01</td></tr>\n",
       "</tbody>\n",
       "</table>\n"
      ],
      "text/latex": [
       "\\begin{tabular}{r|lllll}\n",
       "  & IsGeo & Tree & Logit & TreeP & LogitP\\\\\n",
       "\\hline\n",
       "\t4 & 0    & 0    & 0    & 0.11 & 0.06\\\\\n",
       "\t5 & 1    & 1    & 1    & 0.82 & 0.85\\\\\n",
       "\t7 & 0    & 0    & 0    & 0.11 & 0.03\\\\\n",
       "\t11 & 1    & 1    & 1    & 0.82 & 0.99\\\\\n",
       "\t19 & 0    & 0    & 0    & 0.44 & 0.16\\\\\n",
       "\t23 & 0    & 0    & 0    & 0.11 & 0.00\\\\\n",
       "\t27 & 0    & 0    & 0    & 0.11 & 0.01\\\\\n",
       "\t28 & 0    & 0    & 0    & 0.11 & 0.00\\\\\n",
       "\t30 & 0    & 0    & 0    & 0.11 & 0.33\\\\\n",
       "\t34 & 0    & 0    & 0    & 0.11 & 0.03\\\\\n",
       "\t35 & 1    & 1    & 1    & 0.82 & 0.75\\\\\n",
       "\t37 & 1    & 0    & 0    & 0.44 & 0.36\\\\\n",
       "\t44 & 1    & 1    & 1    & 0.82 & 0.96\\\\\n",
       "\t47 & 0    & 0    & 0    & 0.44 & 0.10\\\\\n",
       "\t62 & 1    & 1    & 1    & 0.82 & 0.98\\\\\n",
       "\t75 & 0    & 0    & 0    & 0.44 & 0.01\\\\\n",
       "\\end{tabular}\n"
      ],
      "text/markdown": [
       "\n",
       "| <!--/--> | IsGeo | Tree | Logit | TreeP | LogitP |\n",
       "|---|---|---|---|---|---|\n",
       "| 4 | 0    | 0    | 0    | 0.11 | 0.06 |\n",
       "| 5 | 1    | 1    | 1    | 0.82 | 0.85 |\n",
       "| 7 | 0    | 0    | 0    | 0.11 | 0.03 |\n",
       "| 11 | 1    | 1    | 1    | 0.82 | 0.99 |\n",
       "| 19 | 0    | 0    | 0    | 0.44 | 0.16 |\n",
       "| 23 | 0    | 0    | 0    | 0.11 | 0.00 |\n",
       "| 27 | 0    | 0    | 0    | 0.11 | 0.01 |\n",
       "| 28 | 0    | 0    | 0    | 0.11 | 0.00 |\n",
       "| 30 | 0    | 0    | 0    | 0.11 | 0.33 |\n",
       "| 34 | 0    | 0    | 0    | 0.11 | 0.03 |\n",
       "| 35 | 1    | 1    | 1    | 0.82 | 0.75 |\n",
       "| 37 | 1    | 0    | 0    | 0.44 | 0.36 |\n",
       "| 44 | 1    | 1    | 1    | 0.82 | 0.96 |\n",
       "| 47 | 0    | 0    | 0    | 0.44 | 0.10 |\n",
       "| 62 | 1    | 1    | 1    | 0.82 | 0.98 |\n",
       "| 75 | 0    | 0    | 0    | 0.44 | 0.01 |\n",
       "\n"
      ],
      "text/plain": [
       "   IsGeo Tree Logit TreeP LogitP\n",
       "4  0     0    0     0.11  0.06  \n",
       "5  1     1    1     0.82  0.85  \n",
       "7  0     0    0     0.11  0.03  \n",
       "11 1     1    1     0.82  0.99  \n",
       "19 0     0    0     0.44  0.16  \n",
       "23 0     0    0     0.11  0.00  \n",
       "27 0     0    0     0.11  0.01  \n",
       "28 0     0    0     0.11  0.00  \n",
       "30 0     0    0     0.11  0.33  \n",
       "34 0     0    0     0.11  0.03  \n",
       "35 1     1    1     0.82  0.75  \n",
       "37 1     0    0     0.44  0.36  \n",
       "44 1     1    1     0.82  0.96  \n",
       "47 0     0    0     0.44  0.10  \n",
       "62 1     1    1     0.82  0.98  \n",
       "75 0     0    0     0.44  0.01  "
      ]
     },
     "metadata": {},
     "output_type": "display_data"
    }
   ],
   "source": [
    "cbind(IsGeo = test$IsGeo, \n",
    "      Tree = ifelse(tree_pred == 1, 1 ,0), \n",
    "      Logit = ifelse(logit.step_pred > 0.5, 1, 0), \n",
    "      TreeP = round(tree_p[,2],2),\n",
    "      LogitP = round(logit.step_pred,2))"
   ]
  },
  {
   "cell_type": "markdown",
   "metadata": {},
   "source": [
    "Ввиду того, что выборка у нас небольшая, качество классификации можно оценить невооруженным глазом.\n",
    "Видно, что обе классификационных модели ошиблись только в одном из 16 тестовых значений, классифицированных экспертами (т.е. точность на уровне 94%)."
   ]
  }
 ],
 "metadata": {
  "kernelspec": {
   "display_name": "R",
   "language": "R",
   "name": "ir"
  },
  "language_info": {
   "codemirror_mode": "r",
   "file_extension": ".r",
   "mimetype": "text/x-r-source",
   "name": "R",
   "pygments_lexer": "r",
   "version": "3.6.1"
  }
 },
 "nbformat": 4,
 "nbformat_minor": 4
}
